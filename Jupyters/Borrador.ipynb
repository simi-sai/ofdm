{
 "cells": [
  {
   "cell_type": "markdown",
   "metadata": {},
   "source": [
    "# Modulación OFDM en Tiempo Discreto"
   ]
  },
  {
   "cell_type": "markdown",
   "metadata": {},
   "source": [
    "## 1. Introducción"
   ]
  },
  {
   "cell_type": "markdown",
   "metadata": {},
   "source": [
    "**Orthogonal Frequency Division Multiplexing (OFDM)** es una técnica de modulación digital que divide la información en múltiples subportadoras ortogonales, lo que permite transmitir datos a altas tasas de manera robusta ante interferencias y desvanecimientos selectivos en frecuencia. La utilización de la transformada inversa de Fourier (IFFT) permite generar la señal OFDM en el dominio del tiempo a partir de los símbolos modulados (por ejemplo, QPSK, QAM), facilitando su implementación en sistemas digitales."
   ]
  },
  {
   "cell_type": "markdown",
   "metadata": {},
   "source": [
    "## 2. Transmisión OFDM en Tiempo Discreto"
   ]
  },
  {
   "cell_type": "markdown",
   "metadata": {},
   "source": [
    "### 2.1 Generación de la Señal OFDM"
   ]
  },
  {
   "cell_type": "markdown",
   "metadata": {},
   "source": [
    "**Mapeo de Bits a Símbolos:**\n",
    "\n",
    "Los bits de información se agrupan y se mapean a símbolos de una constelación digital (por ejemplo, QPSK o QAM).\n",
    "\n",
    "**Transformada Inversa de Fourier (IFFT):**\n",
    "\n",
    "Para generar la señal en tiempo discreto, se aplica la IFFT a un vector de símbolos modulados. Matemáticamente, si $X[k]$ representa el símbolo en la k-ésima subportadora y $N$ es el numero total de subportadoras, la señal en el dominio temporal se expresa como:\n",
    "\n",
    "$$x[n] = \\sum_{k=0}^{N-1}X[k]e^{j\\frac{2\\pi}{N}kn}, \\quad n = 0,1,...,N-1$$\n",
    "\n",
    "Esta suma asegura que las subportadoras sean ortogonales, siempre que se cumpla la relación de la duración del símbolo y la frecuencia de las subportadoras."
   ]
  },
  {
   "cell_type": "markdown",
   "metadata": {},
   "source": [
    "## TO DO:\n",
    "\n",
    "- Investigar mas a detalle el mapeo de simbolos\n",
    "- Investigar QPSK y QAM.\n",
    "- Investigar Ortogonalidad de subportadoras.\n",
    "- Una vez realizado, intentar simular un mapeo + transformada inversa."
   ]
  },
  {
   "cell_type": "markdown",
   "metadata": {},
   "source": [
    "## 2. Transmisión OFDM en Tiempo Discreto"
   ]
  },
  {
   "cell_type": "markdown",
   "metadata": {},
   "source": []
  },
  {
   "cell_type": "markdown",
   "metadata": {},
   "source": []
  }
 ],
 "metadata": {
  "kernelspec": {
   "display_name": "Python 3",
   "language": "python",
   "name": "python3"
  },
  "language_info": {
   "name": "python",
   "version": "3.13.2"
  }
 },
 "nbformat": 4,
 "nbformat_minor": 2
}

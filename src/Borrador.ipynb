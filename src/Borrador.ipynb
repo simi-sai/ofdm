{
 "cells": [
  {
   "cell_type": "markdown",
   "metadata": {},
   "source": [
    "# Modulación OFDM en Tiempo Discreto"
   ]
  },
  {
   "cell_type": "markdown",
   "metadata": {},
   "source": [
    "## 1. Introducción"
   ]
  },
  {
   "cell_type": "markdown",
   "metadata": {},
   "source": [
    "**Orthogonal Frequency Division Multiplexing (OFDM)** es una técnica de modulación digital que divide la información en múltiples subportadoras ortogonales, lo que permite transmitir datos a altas tasas de manera robusta ante interferencias y desvanecimientos selectivos en frecuencia. La utilización de la transformada inversa de Fourier (IFFT) permite generar la señal OFDM en el dominio del tiempo a partir de los símbolos modulados (por ejemplo, QPSK, QAM), facilitando su implementación en sistemas digitales."
   ]
  },
  {
   "cell_type": "markdown",
   "metadata": {},
   "source": [
    "## 2. Transmisión OFDM en Tiempo Discreto"
   ]
  },
  {
   "cell_type": "markdown",
   "metadata": {},
   "source": [
    "El sistema OFDM en tiempo discreto se basa en dividir el flujo de datos en multiples subportadoras ortogonales, transmitiendo simultaneamente cada flujo de datos a traves de una subportadora diferente.\n",
    "Para una mayor comprension de el proceso de transmision, decidimos separarlo en las siguientes etapas:"
   ]
  },
  {
   "cell_type": "markdown",
   "metadata": {},
   "source": [
    "### Etapa N° 1: Conversion de Datos a Simbolos"
   ]
  },
  {
   "cell_type": "markdown",
   "metadata": {},
   "source": [
    "Los datos de entrada (una cadena de numeros binarios) se agrupan en bloques de longitud fija y dependiendo de la técnica de modulación utilizada (QAM o PSK), cada grupo de bits se convierte en un símbolo complejo."
   ]
  },
  {
   "cell_type": "markdown",
   "metadata": {},
   "source": [
    "#### Modulacion QAM: "
   ]
  },
  {
   "cell_type": "markdown",
   "metadata": {},
   "source": [
    "Esta modulacion nos permite enviar más información a través de una sola señal, ya que se usan diferentes combinaciones de amplitudes y fases. Cuantos más niveles de amplitud y fase se utilicen, más datos se pueden transmitir en el mismo espacio de tiempo, pero también se hace más difícil para el receptor descifrar la señal si hay ruido o interferencia.\n",
    "\n",
    "La ecuación de la función QAM es:\n",
    "\n",
    "$$s(t) = I(t)\\cdot\\cos(2\\pi f_ct)+Q(t)\\cdot\\sin(2\\pi f_ct)$$\n",
    "\n",
    "Donde:\n",
    "\n",
    "- $I(t)$ es la componente en fase *(in-phase)* respecto a la portadora.\n",
    "- $Q(t)$ es la componente en cuadratura *(quadrature)* respecto a la portadora (desfasada 90°).\n",
    "- $f_c$ es la frecuencia de la portadora.\n",
    "\n",
    "Para una primera instancia utilizaremos una modulacion 4-QAM (4 símbolos) esta tiene 2 bits por símbolo.\n",
    "\n",
    "**Ejemplo:**\n",
    "\n",
    "Si los bits de entrada son `01`, el simbolo complejo resultante sería $X_k = 1 + j$ utilizando un mapeo estandar (de izquierda a derecha de arriba para abajo).\n"
   ]
  },
  {
   "cell_type": "markdown",
   "metadata": {},
   "source": [
    "### Estapa N°2: Mapeo de Simbolos a Subportadoras"
   ]
  },
  {
   "cell_type": "markdown",
   "metadata": {},
   "source": [
    "Esta etapa consiste en distribuir cada símbolo complejo generado en la etapa anterior en diferentes subportadoras ortogonales. El objetivo es aprovechar el uso de multiples portadoras para transmitir la informacion de manera eficiente.\n",
    "\n",
    "- **Asignacion de subportadoras:** Los simbolos se agrupan en bloques de longitud $N$, donde $N$ representa el numero de subportadoras.\n",
    "- **Distribucion en frecuencia:** Cada simbolo se asocia a una subportadora de frecuencia diferente. Esto significa que si tenemos un ancho de banda total de $B$, el espaciado entre subportadoras es $\\frac{B}{N}.$"
   ]
  },
  {
   "cell_type": "markdown",
   "metadata": {},
   "source": [
    "### Etapa N°3: Modulacion OFDM mediante IFFT."
   ]
  },
  {
   "cell_type": "markdown",
   "metadata": {},
   "source": [
    "Se aplica la Transformada Inversa de Fourier Discreta al bloque de Simbolos, para obtener la señal en dominio temporal.\n",
    "\n",
    "La señal transmitida en tiempo discreto se expresa como:\n",
    "\n",
    "$$s(n)=\\sum_{k=0}^{N-1}{X_k\\cdot e^{\\frac{j2\\pi kn}{N}}}$$\n",
    "\n",
    "Donde:\n",
    "\n",
    "- $X_k$ es el simbolo modulado.\n",
    "- $N$ es el numero total de portadoras."
   ]
  },
  {
   "cell_type": "markdown",
   "metadata": {},
   "source": [
    "### Etapa N°4: Adición del Prefijo Cíclico (CP)"
   ]
  },
  {
   "cell_type": "markdown",
   "metadata": {},
   "source": [
    "Para evitar Interferencia Intersimbolo (ISI), se añade un prefijo ciclico al comienzo de cada simbolo OFDM. El prefijo cíclico es una copia de la última parte del símbolo OFDM."
   ]
  },
  {
   "cell_type": "markdown",
   "metadata": {},
   "source": [
    "### Ejemplo Conceptual:"
   ]
  },
  {
   "cell_type": "markdown",
   "metadata": {},
   "source": [
    "Suponiendo el siguiente flujo de datos: `01001011`.\n",
    "\n",
    "- **Etapa 1:** Los simbolos resultantes del flujo de datos son...\n",
    "\n",
    "    - $X_0(01) = 1+j$\n",
    "    - $X_1(00) = -1+j$\n",
    "    - $X_2(10) = -1-j$\n",
    "    - $X_3(11) = 1-j$\n",
    "\n",
    "- **Etapa 2:** Suponiendo $N=4$ subportadoras...\n",
    "\n",
    "    - $X_0 \\rightarrow N_0$\n",
    "    - $X_1 \\rightarrow N_1$\n",
    "    - $X_2 \\rightarrow N_2$\n",
    "    - $X_3 \\rightarrow N_3$\n",
    "\n",
    "- **Etapa 3:** La señal OFDM resultante será...\n",
    "\n",
    "$$s(n)=(1+j)e^{j0}+(-1+j)e^{j\\frac{2\\pi n}{4}}+(-1-j)e^{j\\frac{4\\pi n}{4}}(1-j)e^{j\\frac{6\\pi n}{4}}$$\n",
    "\n",
    "- **Etapa 4:** Suponiendo un prefijo ciclico de longitud 2 y 4 muestras...\n",
    "\n",
    "    -  $[s(0),s(1),s(2),s(3)]\\rightarrow[s(2),s(3),s(0),s(1),s(2),s(3)]$"
   ]
  }
 ],
 "metadata": {
  "kernelspec": {
   "display_name": "Python 3",
   "language": "python",
   "name": "python3"
  },
  "language_info": {
   "name": "python",
   "version": "3.13.5"
  }
 },
 "nbformat": 4,
 "nbformat_minor": 2
}

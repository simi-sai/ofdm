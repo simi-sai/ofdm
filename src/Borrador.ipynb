{
 "cells": [
  {
   "cell_type": "markdown",
   "metadata": {},
   "source": [
    "# Modulación OFDM en Tiempo Discreto"
   ]
  },
  {
   "cell_type": "markdown",
   "metadata": {},
   "source": [
    "## 1. Introducción"
   ]
  },
  {
   "cell_type": "markdown",
   "metadata": {},
   "source": [
    "**Orthogonal Frequency Division Multiplexing (OFDM)** es una técnica de modulación digital que divide la información en múltiples subportadoras ortogonales, lo que permite transmitir datos a altas tasas de manera robusta ante interferencias y desvanecimientos selectivos en frecuencia. La utilización de la transformada inversa de Fourier (IFFT) permite generar la señal OFDM en el dominio del tiempo a partir de los símbolos modulados (por ejemplo, QPSK, QAM), facilitando su implementación en sistemas digitales."
   ]
  },
  {
   "cell_type": "markdown",
   "metadata": {},
   "source": [
    "## 2. Transmisión OFDM en Tiempo Discreto"
   ]
  },
  {
   "cell_type": "markdown",
   "metadata": {},
   "source": [
    "El sistema OFDM en tiempo discreto se basa en dividir el flujo de datos en multiples subportadoras ortogonales, transmitiendo simultaneamente cada flujo de datos a traves de una subportadora diferente.\n",
    "Para una mayor comprension de el proceso de transmision, decidimos separarlo en las siguientes etapas:"
   ]
  },
  {
   "cell_type": "markdown",
   "metadata": {},
   "source": [
    "### Etapa N° 1: Conversion de Datos a Simbolos"
   ]
  },
  {
   "cell_type": "markdown",
   "metadata": {},
   "source": [
    "Los datos de entrada (una cadena de numeros binarios) se agrupan en bloques de longitud fija y dependiendo de la técnica de modulación utilizada (QAM o PSK), cada grupo de bits se convierte en un símbolo complejo."
   ]
  },
  {
   "cell_type": "code",
   "execution_count": 1,
   "metadata": {},
   "outputs": [
    {
     "name": "stdout",
     "output_type": "stream",
     "text": [
      "Bits generados (primeros 20): [0 0 0 1 0 1 1 1 0 1 0 0 1 1 1 0 1 0 0 0]\n"
     ]
    }
   ],
   "source": [
    "#Generamos una secuencia de bits binarios aleatorios que simulan los datos a transmitir.\n",
    "import numpy as np\n",
    "\n",
    "# Parámetros\n",
    "num_bits = 1024  # Cantidad de bits a transmitir\n",
    "\n",
    "# Generación de datos binarios aleatorios\n",
    "data_bits = np.random.randint(0, 2, num_bits)\n",
    "\n",
    "# Mostrar los primeros 20 bits generados\n",
    "print(\"Bits generados (primeros 20):\", data_bits[:20])\n",
    "\n",
    "#Esto simula el flujo de entrada digital. Usamos numpy para generar una secuencia de ceros y unos."
   ]
  },
  {
   "cell_type": "code",
   "execution_count": 3,
   "metadata": {},
   "outputs": [
    {
     "name": "stdout",
     "output_type": "stream",
     "text": [
      "Símbolos QAM (primeros 10): [-1.+1.j  1.+1.j  1.+1.j  1.-1.j  1.+1.j -1.+1.j  1.-1.j -1.-1.j -1.-1.j\n",
      " -1.+1.j]\n"
     ]
    }
   ],
   "source": [
    "def bits_to_qam_symbols(bits):\n",
    "    # Asegurarse de que la cantidad de bits sea par\n",
    "    if len(bits) % 2 != 0:\n",
    "        bits = np.append(bits, 0) # si es impar le agrega un 0 al final para que sea par y que no genere errores\n",
    "\n",
    "    # Mapeo 4-QAM estándar (Gray coding)\n",
    "    # Es un diccionario de mapeo, Cada par de bits se asocia a un número complejo que representa un punto en el plano IQ.\n",
    "    mapping = {\n",
    "        (0, 0): -1 + 1j,\n",
    "        (0, 1): 1 + 1j,\n",
    "        (1, 1): 1 - 1j,\n",
    "        (1, 0): -1 - 1j\n",
    "    }\n",
    "\n",
    "    # Agrupar bits en pares y mapear a símbolos\n",
    "    symbols = []\n",
    "    for i in range(0, len(bits), 2): #Recorre los bits de a dos\n",
    "        pair = (bits[i], bits[i+1]) #Crea un par de bits como tupla\n",
    "        symbols.append(mapping[pair]) #Usa el diccionario mapping para convertir ese par en un símbolo complejo\n",
    "\n",
    "    return np.array(symbols)\n",
    "\n",
    "# Aplicar la función a los bits generados\n",
    "qam_symbols = bits_to_qam_symbols(data_bits)\n",
    "\n",
    "# Mostrar los primeros símbolos\n",
    "print(\"Símbolos QAM (primeros 10):\", qam_symbols[:10])\n"
   ]
  },
  {
   "cell_type": "markdown",
   "metadata": {},
   "source": [
    "#### Modulacion QAM: "
   ]
  },
  {
   "cell_type": "markdown",
   "metadata": {},
   "source": [
    "Esta modulacion nos permite enviar más información a través de una sola señal, ya que se usan diferentes combinaciones de amplitudes y fases. Cuantos más niveles de amplitud y fase se utilicen, más datos se pueden transmitir en el mismo espacio de tiempo, pero también se hace más difícil para el receptor descifrar la señal si hay ruido o interferencia.\n",
    "\n",
    "La ecuación de la función QAM es:\n",
    "\n",
    "$$s(t) = I(t)\\cdot\\cos(2\\pi f_ct)+Q(t)\\cdot\\sin(2\\pi f_ct)$$\n",
    "\n",
    "Donde:\n",
    "\n",
    "- $I(t)$ es la componente en fase *(in-phase)* respecto a la portadora.\n",
    "- $Q(t)$ es la componente en cuadratura *(quadrature)* respecto a la portadora (desfasada 90°).\n",
    "- $f_c$ es la frecuencia de la portadora.\n",
    "\n",
    "Para una primera instancia utilizaremos una modulacion 4-QAM (4 símbolos) esta tiene 2 bits por símbolo.\n",
    "\n",
    "**Ejemplo:**\n",
    "\n",
    "Si los bits de entrada son `01`, el simbolo complejo resultante sería $X_k = 1 + j$ utilizando un mapeo estandar (de izquierda a derecha de arriba para abajo).\n"
   ]
  },
  {
   "cell_type": "markdown",
   "metadata": {},
   "source": [
    "### Estapa N°2: Mapeo de Simbolos a Subportadoras"
   ]
  },
  {
   "cell_type": "markdown",
   "metadata": {},
   "source": [
    "Esta etapa consiste en distribuir cada símbolo complejo generado en la etapa anterior en diferentes subportadoras ortogonales. El objetivo es aprovechar el uso de multiples portadoras para transmitir la informacion de manera eficiente.\n",
    "\n",
    "- **Asignacion de subportadoras:** Los simbolos se agrupan en bloques de longitud $N$, donde $N$ representa el numero de subportadoras.\n",
    "- **Distribucion en frecuencia:** Cada simbolo se asocia a una subportadora de frecuencia diferente. Esto significa que si tenemos un ancho de banda total de $B$, el espaciado entre subportadoras es $\\frac{B}{N}.$"
   ]
  },
  {
   "cell_type": "code",
   "execution_count": 4,
   "metadata": {},
   "outputs": [],
   "source": [
    "def map_symbols_to_subcarriers(symbols, N):\n",
    "    # Paso 1: Verificar si la cantidad de símbolos es múltiplo de N\n",
    "    padding = (-len(symbols)) % N #calcula cuántos ceros hay que agregar si los símbolos no se dividen justo entre N.\n",
    "    if padding > 0:\n",
    "        symbols = np.append(symbols, [0]*padding)  # Relleno con ceros si es necesario\n",
    "\n",
    "    # Paso 2: Agrupar los símbolos en bloques de N\n",
    "    blocks = symbols.reshape((-1, N))\n",
    "    return blocks\n"
   ]
  },
  {
   "cell_type": "code",
   "execution_count": 5,
   "metadata": {},
   "outputs": [
    {
     "name": "stdout",
     "output_type": "stream",
     "text": [
      "Bloque 1: [-1.+1.j  1.+1.j  1.+1.j  1.-1.j]\n",
      "Bloque 2: [ 1.+1.j -1.+1.j  1.-1.j -1.-1.j]\n",
      "Bloque 3: [-1.-1.j -1.+1.j  1.+1.j  1.-1.j]\n",
      "Bloque 4: [-1.-1.j  1.-1.j  1.+1.j  1.-1.j]\n",
      "Bloque 5: [ 1.-1.j  1.-1.j -1.-1.j  1.-1.j]\n",
      "Bloque 6: [ 1.-1.j  1.-1.j -1.+1.j -1.+1.j]\n",
      "Bloque 7: [-1.-1.j -1.+1.j -1.+1.j  1.+1.j]\n",
      "Bloque 8: [-1.+1.j -1.-1.j -1.-1.j -1.-1.j]\n",
      "Bloque 9: [ 1.-1.j  1.-1.j  1.-1.j -1.+1.j]\n",
      "Bloque 10: [-1.-1.j  1.-1.j -1.-1.j -1.+1.j]\n",
      "Bloque 11: [ 1.+1.j -1.-1.j  1.-1.j  1.-1.j]\n",
      "Bloque 12: [-1.-1.j  1.-1.j  1.+1.j -1.-1.j]\n",
      "Bloque 13: [ 1.-1.j -1.+1.j -1.+1.j -1.+1.j]\n",
      "Bloque 14: [ 1.-1.j  1.+1.j  1.-1.j -1.+1.j]\n",
      "Bloque 15: [ 1.-1.j  1.-1.j  1.-1.j -1.+1.j]\n",
      "Bloque 16: [ 1.+1.j -1.+1.j -1.-1.j -1.-1.j]\n",
      "Bloque 17: [ 1.-1.j  1.-1.j  1.-1.j -1.-1.j]\n",
      "Bloque 18: [-1.+1.j  1.+1.j -1.+1.j -1.+1.j]\n",
      "Bloque 19: [ 1.-1.j  1.+1.j  1.-1.j -1.+1.j]\n",
      "Bloque 20: [ 1.-1.j  1.+1.j -1.-1.j -1.+1.j]\n",
      "Bloque 21: [-1.-1.j  1.-1.j  1.+1.j  1.-1.j]\n",
      "Bloque 22: [-1.-1.j  1.-1.j  1.-1.j  1.-1.j]\n",
      "Bloque 23: [1.+1.j 1.-1.j 1.+1.j 1.+1.j]\n",
      "Bloque 24: [1.-1.j 1.+1.j 1.-1.j 1.+1.j]\n",
      "Bloque 25: [ 1.+1.j  1.-1.j  1.-1.j -1.-1.j]\n",
      "Bloque 26: [-1.-1.j -1.-1.j  1.+1.j -1.-1.j]\n",
      "Bloque 27: [ 1.+1.j  1.-1.j -1.+1.j -1.+1.j]\n",
      "Bloque 28: [-1.+1.j -1.+1.j -1.-1.j -1.+1.j]\n",
      "Bloque 29: [-1.-1.j -1.-1.j -1.+1.j -1.-1.j]\n",
      "Bloque 30: [ 1.-1.j  1.-1.j -1.+1.j  1.+1.j]\n",
      "Bloque 31: [ 1.-1.j  1.+1.j -1.+1.j -1.+1.j]\n",
      "Bloque 32: [-1.+1.j -1.-1.j -1.-1.j -1.+1.j]\n",
      "Bloque 33: [ 1.-1.j -1.+1.j  1.+1.j -1.+1.j]\n",
      "Bloque 34: [ 1.+1.j -1.-1.j  1.+1.j  1.-1.j]\n",
      "Bloque 35: [ 1.+1.j -1.+1.j  1.-1.j  1.+1.j]\n",
      "Bloque 36: [ 1.-1.j -1.+1.j -1.+1.j -1.-1.j]\n",
      "Bloque 37: [-1.+1.j -1.+1.j  1.-1.j  1.-1.j]\n",
      "Bloque 38: [ 1.-1.j  1.-1.j -1.+1.j -1.+1.j]\n",
      "Bloque 39: [1.+1.j 1.+1.j 1.+1.j 1.+1.j]\n",
      "Bloque 40: [-1.-1.j -1.-1.j -1.-1.j -1.+1.j]\n",
      "Bloque 41: [ 1.+1.j  1.-1.j  1.+1.j -1.-1.j]\n",
      "Bloque 42: [-1.+1.j -1.-1.j  1.+1.j -1.-1.j]\n",
      "Bloque 43: [ 1.-1.j -1.-1.j  1.-1.j -1.+1.j]\n",
      "Bloque 44: [ 1.-1.j -1.-1.j -1.+1.j -1.-1.j]\n",
      "Bloque 45: [ 1.+1.j -1.+1.j  1.-1.j  1.+1.j]\n",
      "Bloque 46: [ 1.+1.j  1.+1.j -1.-1.j -1.+1.j]\n",
      "Bloque 47: [ 1.-1.j -1.-1.j -1.+1.j -1.+1.j]\n",
      "Bloque 48: [ 1.-1.j -1.-1.j -1.-1.j  1.+1.j]\n",
      "Bloque 49: [-1.+1.j  1.-1.j -1.-1.j  1.+1.j]\n",
      "Bloque 50: [-1.-1.j  1.+1.j -1.+1.j -1.-1.j]\n",
      "Bloque 51: [-1.-1.j -1.-1.j -1.-1.j  1.+1.j]\n",
      "Bloque 52: [ 1.+1.j  1.+1.j -1.-1.j  1.-1.j]\n",
      "Bloque 53: [-1.-1.j  1.+1.j  1.-1.j  1.-1.j]\n",
      "Bloque 54: [-1.+1.j -1.-1.j -1.+1.j -1.-1.j]\n",
      "Bloque 55: [-1.-1.j -1.+1.j  1.+1.j -1.+1.j]\n",
      "Bloque 56: [-1.+1.j -1.+1.j  1.-1.j  1.-1.j]\n",
      "Bloque 57: [-1.-1.j  1.-1.j -1.+1.j  1.-1.j]\n",
      "Bloque 58: [-1.-1.j  1.+1.j -1.-1.j  1.-1.j]\n",
      "Bloque 59: [1.-1.j 1.+1.j 1.-1.j 1.+1.j]\n",
      "Bloque 60: [ 1.-1.j -1.-1.j  1.-1.j  1.-1.j]\n",
      "Bloque 61: [-1.-1.j -1.+1.j -1.+1.j -1.+1.j]\n",
      "Bloque 62: [-1.+1.j -1.+1.j  1.-1.j  1.-1.j]\n",
      "Bloque 63: [1.+1.j 1.+1.j 1.-1.j 1.-1.j]\n",
      "Bloque 64: [ 1.+1.j -1.-1.j  1.+1.j  1.+1.j]\n",
      "Bloque 65: [-1.+1.j -1.-1.j -1.-1.j  1.-1.j]\n",
      "Bloque 66: [-1.-1.j  1.+1.j -1.+1.j -1.-1.j]\n",
      "Bloque 67: [ 1.-1.j -1.-1.j  1.-1.j  1.+1.j]\n",
      "Bloque 68: [ 1.-1.j  1.+1.j -1.-1.j  1.-1.j]\n",
      "Bloque 69: [-1.+1.j  1.-1.j  1.-1.j  1.+1.j]\n",
      "Bloque 70: [ 1.+1.j -1.+1.j -1.-1.j -1.-1.j]\n",
      "Bloque 71: [ 1.-1.j -1.-1.j  1.+1.j -1.-1.j]\n",
      "Bloque 72: [-1.+1.j -1.+1.j -1.-1.j -1.+1.j]\n",
      "Bloque 73: [1.-1.j 1.+1.j 1.+1.j 1.+1.j]\n",
      "Bloque 74: [ 1.+1.j -1.-1.j  1.-1.j  1.+1.j]\n",
      "Bloque 75: [-1.+1.j -1.+1.j -1.+1.j -1.-1.j]\n",
      "Bloque 76: [-1.-1.j  1.+1.j -1.+1.j -1.+1.j]\n",
      "Bloque 77: [-1.-1.j  1.-1.j -1.-1.j  1.-1.j]\n",
      "Bloque 78: [ 1.+1.j -1.-1.j  1.+1.j -1.+1.j]\n",
      "Bloque 79: [1.-1.j 1.+1.j 1.-1.j 1.-1.j]\n",
      "Bloque 80: [-1.+1.j  1.+1.j  1.-1.j  1.-1.j]\n",
      "Bloque 81: [-1.+1.j  1.-1.j  1.+1.j -1.+1.j]\n",
      "Bloque 82: [-1.-1.j  1.+1.j -1.+1.j -1.+1.j]\n",
      "Bloque 83: [ 1.-1.j -1.+1.j  1.-1.j  1.+1.j]\n",
      "Bloque 84: [ 1.-1.j  1.+1.j  1.+1.j -1.+1.j]\n",
      "Bloque 85: [ 1.-1.j  1.-1.j  1.-1.j -1.+1.j]\n",
      "Bloque 86: [-1.+1.j -1.-1.j -1.+1.j  1.+1.j]\n",
      "Bloque 87: [ 1.-1.j -1.+1.j  1.-1.j -1.-1.j]\n",
      "Bloque 88: [-1.+1.j -1.-1.j -1.+1.j  1.+1.j]\n",
      "Bloque 89: [1.-1.j 1.+1.j 1.+1.j 1.+1.j]\n",
      "Bloque 90: [ 1.-1.j -1.-1.j -1.-1.j  1.+1.j]\n",
      "Bloque 91: [ 1.+1.j  1.-1.j  1.-1.j -1.+1.j]\n",
      "Bloque 92: [-1.-1.j  1.-1.j  1.+1.j  1.-1.j]\n",
      "Bloque 93: [ 1.-1.j -1.-1.j -1.-1.j  1.+1.j]\n",
      "Bloque 94: [ 1.-1.j  1.+1.j -1.+1.j -1.-1.j]\n",
      "Bloque 95: [-1.+1.j  1.+1.j  1.-1.j  1.+1.j]\n",
      "Bloque 96: [-1.+1.j -1.-1.j -1.-1.j -1.-1.j]\n",
      "Bloque 97: [ 1.-1.j -1.-1.j  1.+1.j  1.-1.j]\n",
      "Bloque 98: [-1.-1.j -1.+1.j -1.+1.j -1.-1.j]\n",
      "Bloque 99: [-1.-1.j -1.+1.j  1.-1.j  1.+1.j]\n",
      "Bloque 100: [ 1.+1.j -1.+1.j -1.-1.j  1.+1.j]\n",
      "Bloque 101: [ 1.+1.j -1.-1.j  1.-1.j  1.+1.j]\n",
      "Bloque 102: [ 1.+1.j  1.-1.j -1.-1.j -1.+1.j]\n",
      "Bloque 103: [ 1.+1.j  1.-1.j  1.-1.j -1.+1.j]\n",
      "Bloque 104: [1.+1.j 1.+1.j 1.-1.j 1.-1.j]\n",
      "Bloque 105: [ 1.+1.j  1.-1.j -1.-1.j  1.+1.j]\n",
      "Bloque 106: [-1.-1.j  1.-1.j  1.+1.j -1.+1.j]\n",
      "Bloque 107: [-1.+1.j  1.-1.j -1.+1.j -1.+1.j]\n",
      "Bloque 108: [ 1.-1.j -1.+1.j -1.-1.j -1.-1.j]\n",
      "Bloque 109: [-1.+1.j  1.-1.j  1.+1.j  1.+1.j]\n",
      "Bloque 110: [-1.+1.j -1.+1.j -1.+1.j  1.-1.j]\n",
      "Bloque 111: [-1.-1.j -1.+1.j -1.-1.j -1.+1.j]\n",
      "Bloque 112: [-1.-1.j -1.+1.j  1.+1.j  1.+1.j]\n",
      "Bloque 113: [ 1.+1.j -1.-1.j -1.+1.j  1.-1.j]\n",
      "Bloque 114: [-1.-1.j -1.+1.j  1.+1.j  1.+1.j]\n",
      "Bloque 115: [-1.-1.j  1.+1.j  1.-1.j  1.-1.j]\n",
      "Bloque 116: [ 1.+1.j -1.+1.j  1.+1.j -1.+1.j]\n",
      "Bloque 117: [ 1.-1.j -1.+1.j -1.+1.j -1.-1.j]\n",
      "Bloque 118: [ 1.-1.j -1.-1.j -1.+1.j  1.+1.j]\n",
      "Bloque 119: [ 1.+1.j -1.+1.j -1.+1.j  1.-1.j]\n",
      "Bloque 120: [ 1.+1.j -1.+1.j  1.+1.j -1.-1.j]\n",
      "Bloque 121: [-1.-1.j  1.-1.j -1.-1.j -1.+1.j]\n",
      "Bloque 122: [ 1.+1.j  1.-1.j -1.-1.j  1.-1.j]\n",
      "Bloque 123: [ 1.+1.j -1.+1.j -1.-1.j -1.+1.j]\n",
      "Bloque 124: [-1.+1.j  1.-1.j -1.-1.j  1.-1.j]\n",
      "Bloque 125: [1.+1.j 1.+1.j 1.+1.j 1.-1.j]\n",
      "Bloque 126: [1.+1.j 1.+1.j 1.+1.j 1.+1.j]\n",
      "Bloque 127: [ 1.-1.j  1.+1.j -1.-1.j  1.+1.j]\n",
      "Bloque 128: [ 1.+1.j -1.+1.j  1.-1.j -1.-1.j]\n"
     ]
    }
   ],
   "source": [
    "# Aplicación con N subportadoras\n",
    "N = 4  # Podés cambiar este valor según tu diseño\n",
    "symbol_blocks = map_symbols_to_subcarriers(qam_symbols, N)\n",
    "\n",
    "# Mostrar todos los bloques de símbolos\n",
    "for i, bloque in enumerate(symbol_blocks):\n",
    "    print(f\"Bloque {i+1}: {bloque}\")\n",
    "\n"
   ]
  },
  {
   "cell_type": "markdown",
   "metadata": {},
   "source": [
    "### Etapa N°3: Modulacion OFDM mediante IFFT."
   ]
  },
  {
   "cell_type": "markdown",
   "metadata": {},
   "source": [
    "Se aplica la Transformada Inversa de Fourier Discreta al bloque de Simbolos, para obtener la señal en dominio temporal.\n",
    "\n",
    "La señal transmitida en tiempo discreto se expresa como:\n",
    "\n",
    "$$s(n)=\\sum_{k=0}^{N-1}{X_k\\cdot e^{\\frac{j2\\pi kn}{N}}}$$\n",
    "\n",
    "Donde:\n",
    "\n",
    "- $X_k$ es el simbolo modulado (cada par dentro del bloque)\n",
    "- $N$ es el numero total de portadoras.\n",
    "- $n$ es la cantidad de bloques."
   ]
  },
  {
   "cell_type": "code",
   "execution_count": null,
   "metadata": {},
   "outputs": [
    {
     "name": "stdout",
     "output_type": "stream",
     "text": [
      "Señal OFDM bloque 1: [ 0.5+0.j  0.5-1.j  0.5+0.j -0.5+0.j]\n",
      "Señal OFDM bloque 2: [0.+0.j 1.+0.j 0.+0.j 0.+1.j]\n",
      "Señal OFDM bloque 3: [ 0.+0.j -1.+0.j  0.+0.j  0.-1.j]\n",
      "Señal OFDM bloque 4: [0.+0.j 1.+1.j 0.+0.j 0.+0.j]\n",
      "Señal OFDM bloque 5: [ 0.+0.j  0.-1.j  0.+0.j -1.+0.j]\n",
      "Señal OFDM bloque 6: [ 0.5-0.5j -1. +0.j  -0.5-0.5j  0. +0.j ]\n",
      "Señal OFDM bloque 7: [0. +0.5j 0.5-1.j  0. -0.5j 0.5+0.j ]\n",
      "Señal OFDM bloque 8: [-0.5+0.j   1. -0.5j  0.5+0.j   0. -0.5j]\n",
      "Señal OFDM bloque 9: [0.5+0.j  0. -0.5j 0.5+1.j  0. +0.5j]\n",
      "Señal OFDM bloque 10: [0.+0.j 0.+1.j 0.+0.j 1.+0.j]\n",
      "Señal OFDM bloque 11: [0.5+1.j  0. +0.5j 0.5+0.j  0. -0.5j]\n",
      "Señal OFDM bloque 12: [ 0.-0.5j  0.-0.5j  0.-0.5j -1.+0.5j]\n",
      "Señal OFDM bloque 13: [ 0.5+0.5j -1. +0.j  -0.5+0.5j  0. +0.j ]\n",
      "Señal OFDM bloque 14: [0. -1.j  0.5+0.5j 0. +0.j  0.5-0.5j]\n",
      "Señal OFDM bloque 15: [0. -0.5j 0.5+0.j  0. +0.5j 0.5+1.j ]\n",
      "Señal OFDM bloque 16: [0.+0.5j 1.-0.5j 0.+0.5j 0.+0.5j]\n",
      "Señal OFDM bloque 17: [ 0.5+0.j  -1. +0.5j -0.5+0.j   0. +0.5j]\n",
      "Señal OFDM bloque 18: [ 0.-0.5j  0.+0.5j  0.-0.5j -1.-0.5j]\n",
      "Señal OFDM bloque 19: [ 0. -0.5j  0.5+0.j   1. -0.5j -0.5+0.j ]\n",
      "Señal OFDM bloque 20: [-0.5+0.j   0. +0.5j  0.5+0.j   1. +0.5j]\n",
      "Señal OFDM bloque 21: [0.-0.5j 0.-0.5j 1.+0.5j 0.-0.5j]\n",
      "Señal OFDM bloque 22: [-0.5+0.j  0.5+0.j -0.5+0.j -0.5+1.j]\n",
      "Señal OFDM bloque 23: [-0.5+1.j   0. +0.5j -0.5+0.j   0. -0.5j]\n",
      "Señal OFDM bloque 24: [ 0.5+0.5j -0.5+0.5j  0.5+0.5j  0.5-0.5j]\n",
      "Señal OFDM bloque 25: [0.5-0.5j 0. -1.j  0.5+0.5j 0. +0.j ]\n",
      "Señal OFDM bloque 26: [ 0. +0.j   0.5+0.5j  1. +0.j  -0.5+0.5j]\n",
      "Señal OFDM bloque 27: [-0.5-0.5j -0.5+0.5j -0.5-0.5j  0.5-0.5j]\n",
      "Señal OFDM bloque 28: [ 0. +0.j   0.5+0.5j -1. +0.j  -0.5+0.5j]\n",
      "Señal OFDM bloque 29: [-0.5+0.j -0.5+0.j  0.5+1.j -0.5+0.j]\n",
      "Señal OFDM bloque 30: [ 0.5-1.j  0.5+0.j -0.5+0.j  0.5+0.j]\n",
      "Señal OFDM bloque 31: [ 0.5+1.j -0.5+0.j -0.5+0.j -0.5+0.j]\n",
      "Señal OFDM bloque 32: [-0.5+0.j  0.5+1.j -0.5+0.j -0.5+0.j]\n",
      "Señal OFDM bloque 33: [ 0. +0.j   0.5+0.5j  1. +0.j  -0.5+0.5j]\n",
      "Señal OFDM bloque 34: [-0.5+0.5j  0. +0.j  -0.5-0.5j  0. +1.j ]\n",
      "Señal OFDM bloque 35: [-0.5-0.5j  0.5-0.5j -0.5-0.5j -0.5+0.5j]\n",
      "Señal OFDM bloque 36: [-1. +0.j   0.5-0.5j  0. +0.j  -0.5-0.5j]\n",
      "Señal OFDM bloque 37: [ 0.5+1.j -0.5+0.j -0.5+0.j -0.5+0.j]\n",
      "Señal OFDM bloque 38: [-0.5-0.5j  0. +0.j  -0.5+0.5j  0. +1.j ]\n",
      "Señal OFDM bloque 39: [ 0. +0.j   0.5-0.5j  1. +0.j  -0.5-0.5j]\n",
      "Señal OFDM bloque 40: [ 0. +0.j  -0.5-0.5j  0. +1.j  -0.5+0.5j]\n",
      "Señal OFDM bloque 41: [ 0.5-0.5j  1. +0.j  -0.5-0.5j  0. +0.j ]\n",
      "Señal OFDM bloque 42: [ 0.5-0.5j -0.5-0.5j  0.5-0.5j  0.5+0.5j]\n",
      "Señal OFDM bloque 43: [ 0.5-1.j -0.5+0.j -0.5+0.j -0.5+0.j]\n",
      "Señal OFDM bloque 44: [0. +0.j  0.5-0.5j 0. -1.j  0.5+0.5j]\n",
      "Señal OFDM bloque 45: [-0.5+1.j   0. -0.5j -0.5+0.j   0. +0.5j]\n",
      "Señal OFDM bloque 46: [-0.5+0.5j  0. -1.j  -0.5-0.5j  0. +0.j ]\n",
      "Señal OFDM bloque 47: [ 0.+0.j  0.-1.j  0.+0.j -1.+0.j]\n",
      "Señal OFDM bloque 48: [-1. -0.5j -0.5+0.j   0. -0.5j  0.5+0.j ]\n",
      "Señal OFDM bloque 49: [-0.5+0.j -0.5+0.j  0.5-1.j -0.5+0.j]\n",
      "Señal OFDM bloque 50: [ 0. -0.5j  0.5+0.j  -1. -0.5j -0.5+0.j ]\n",
      "Señal OFDM bloque 51: [-0.5+0.j -0.5+1.j -0.5+0.j  0.5+0.j]\n",
      "Señal OFDM bloque 52: [0.+0.j 1.+0.j 0.+0.j 0.-1.j]\n",
      "Señal OFDM bloque 53: [ 0. +0.5j -0.5+0.j   0. -0.5j -0.5-1.j ]\n",
      "Señal OFDM bloque 54: [-0.5-0.5j  0.5+0.5j -0.5-0.5j -0.5-0.5j]\n",
      "Señal OFDM bloque 55: [0.5-0.5j 0. +0.j  0.5+0.5j 0. -1.j ]\n",
      "Señal OFDM bloque 56: [ 0.5+1.j -0.5+0.j -0.5+0.j -0.5+0.j]\n",
      "Señal OFDM bloque 57: [-0.5+0.j  0.5-1.j -0.5+0.j -0.5+0.j]\n",
      "Señal OFDM bloque 58: [ 0.+0.5j  0.-0.5j  0.+0.5j -1.+0.5j]\n",
      "Señal OFDM bloque 59: [0.+0.5j 0.-0.5j 1.-0.5j 0.-0.5j]\n",
      "Señal OFDM bloque 60: [ 0. +1.j  -0.5+0.5j  0. +0.j  -0.5-0.5j]\n",
      "Señal OFDM bloque 61: [0. +0.j  0.5+0.5j 0. +1.j  0.5-0.5j]\n",
      "Señal OFDM bloque 62: [-0.5+0.5j  0. +0.j   0.5+0.5j  1. +0.j ]\n",
      "Señal OFDM bloque 63: [-1. +0.j  -0.5-0.5j  0. +0.j   0.5-0.5j]\n",
      "Señal OFDM bloque 64: [0.5+0.j  0. +0.5j 0.5-1.j  0. -0.5j]\n",
      "Señal OFDM bloque 65: [-0.5+0.j  0.5+0.j  0.5-1.j  0.5+0.j]\n",
      "Señal OFDM bloque 66: [ 0.5+1.j  0.5+0.j -0.5+0.j  0.5+0.j]\n",
      "Señal OFDM bloque 67: [-0.5+0.5j  0.5+0.5j  0.5-0.5j  0.5+0.5j]\n",
      "Señal OFDM bloque 68: [ 0.+0.5j  0.-0.5j -1.-0.5j  0.-0.5j]\n",
      "Señal OFDM bloque 69: [-1. -0.5j -0.5+0.j   0. -0.5j  0.5+0.j ]\n",
      "Señal OFDM bloque 70: [-0.5+0.j   0. +0.5j -0.5-1.j   0. -0.5j]\n",
      "Señal OFDM bloque 71: [0. +0.5j 0.5+1.j  0. -0.5j 0.5+0.j ]\n",
      "Señal OFDM bloque 72: [-0.5+0.j  -1. -0.5j  0.5+0.j   0. -0.5j]\n",
      "Señal OFDM bloque 73: [0.+0.j 0.+0.j 0.+0.j 1.-1.j]\n",
      "Señal OFDM bloque 74: [0.-0.5j 0.-0.5j 0.-0.5j 1.+0.5j]\n",
      "Señal OFDM bloque 75: [ 0. +0.j   0.5-0.5j  1. +0.j  -0.5-0.5j]\n",
      "Señal OFDM bloque 76: [ 0.5+0.j   1. +0.5j -0.5+0.j   0. +0.5j]\n",
      "Señal OFDM bloque 77: [-1. +0.5j -0.5+0.j   0. +0.5j  0.5+0.j ]\n",
      "Señal OFDM bloque 78: [-0.5-0.5j  0.5+0.5j -0.5-0.5j -0.5-0.5j]\n",
      "Señal OFDM bloque 79: [-0.5-1.j   0. -0.5j -0.5+0.j   0. +0.5j]\n",
      "Señal OFDM bloque 80: [0.5-0.5j 0. +0.j  0.5+0.5j 0. +1.j ]\n",
      "Señal OFDM bloque 81: [ 0.5+0.j -0.5+0.j -0.5-1.j -0.5+0.j]\n",
      "Señal OFDM bloque 82: [-0.5+0.5j  1. +0.j   0.5+0.5j  0. +0.j ]\n",
      "Señal OFDM bloque 83: [0. +0.5j 0.5+0.j  0. -0.5j 0.5-1.j ]\n",
      "Señal OFDM bloque 84: [ 0.+0.j -1.+1.j  0.+0.j  0.+0.j]\n",
      "Señal OFDM bloque 85: [ 0. +0.j  -0.5+0.5j  0. +1.j  -0.5-0.5j]\n",
      "Señal OFDM bloque 86: [-0.5+0.j  0.5+1.j -0.5+0.j -0.5+0.j]\n",
      "Señal OFDM bloque 87: [-0.5+0.j -0.5+0.j  0.5-1.j -0.5+0.j]\n",
      "Señal OFDM bloque 88: [ 0.5-1.j  0.5+0.j -0.5+0.j  0.5+0.j]\n",
      "Señal OFDM bloque 89: [-0.5+0.5j  0. +0.j   0.5+0.5j  1. +0.j ]\n",
      "Señal OFDM bloque 90: [-0.5+0.5j  0. +0.j  -0.5-0.5j  0. -1.j ]\n",
      "Señal OFDM bloque 91: [ 0.5+1.j  0.5+0.j -0.5+0.j  0.5+0.j]\n",
      "Señal OFDM bloque 92: [-0.5+0.j  0.5+0.j  0.5-1.j  0.5+0.j]\n",
      "Señal OFDM bloque 93: [-0.5+0.j -0.5+0.j  0.5-1.j -0.5+0.j]\n",
      "Señal OFDM bloque 94: [ 1. +0.j   0.5+0.5j  0. +0.j  -0.5+0.5j]\n",
      "Señal OFDM bloque 95: [ 0. +0.5j -0.5+0.j   1. +0.5j  0.5+0.j ]\n",
      "Señal OFDM bloque 96: [ 0. +0.5j -0.5+0.j  -1. +0.5j  0.5+0.j ]\n",
      "Señal OFDM bloque 97: [-0.5-0.5j  0.5+0.5j  0.5+0.5j  0.5+0.5j]\n",
      "Señal OFDM bloque 98: [ 0.5+0.j  -1. +0.5j -0.5+0.j   0. +0.5j]\n",
      "Señal OFDM bloque 99: [ 0.+0.5j  0.-0.5j -1.-0.5j  0.-0.5j]\n",
      "Señal OFDM bloque 100: [1.-1.j 0.+0.j 0.+0.j 0.+0.j]\n",
      "Señal OFDM bloque 101: [ 0.5+0.j  0.5+0.j  0.5+0.j -0.5-1.j]\n",
      "Señal OFDM bloque 102: [ 0. +1.j  -0.5-0.5j  0. +0.j  -0.5+0.5j]\n",
      "Señal OFDM bloque 103: [0.5+0.5j 0. +0.j  0.5-0.5j 0. +1.j ]\n",
      "Señal OFDM bloque 104: [ 0.+0.j  0.+1.j  0.+0.j -1.+0.j]\n",
      "Señal OFDM bloque 105: [-0.5-0.5j -0.5-0.5j  0.5+0.5j -0.5-0.5j]\n",
      "Señal OFDM bloque 106: [ 0. +0.5j -0.5+0.j   1. +0.5j  0.5+0.j ]\n",
      "Señal OFDM bloque 107: [-0.5+0.5j  0. +0.j   0.5+0.5j  1. +0.j ]\n",
      "Señal OFDM bloque 108: [-0.5+0.5j  0.5+0.5j -0.5+0.5j -0.5-0.5j]\n",
      "Señal OFDM bloque 109: [ 0. +0.5j  0.5+0.j  -1. +0.5j -0.5+0.j ]\n",
      "Señal OFDM bloque 110: [0. +0.5j 0.5+0.j  0. -0.5j 0.5+1.j ]\n",
      "Señal OFDM bloque 111: [ 0. -0.5j -0.5+0.j   0. +0.5j -0.5+1.j ]\n",
      "Señal OFDM bloque 112: [0.5+1.j  0. -0.5j 0.5+0.j  0. +0.5j]\n",
      "Señal OFDM bloque 113: [ 0. +0.5j -0.5+0.j   1. +0.5j  0.5+0.j ]\n",
      "Señal OFDM bloque 114: [0.+0.j 1.+1.j 0.+0.j 0.+0.j]\n",
      "Señal OFDM bloque 115: [ 0.+0.5j  0.-0.5j -1.-0.5j  0.-0.5j]\n",
      "Señal OFDM bloque 116: [0.+1.j 0.+0.j 1.+0.j 0.+0.j]\n",
      "Señal OFDM bloque 117: [ 0.+0.j  0.+1.j  0.+0.j -1.+0.j]\n",
      "Señal OFDM bloque 118: [ 0.5+0.j  0.5+0.j -0.5+1.j  0.5+0.j]\n",
      "Señal OFDM bloque 119: [ 0.5+0.j  -1. +0.5j -0.5+0.j   0. +0.5j]\n",
      "Señal OFDM bloque 120: [ 0.5-0.5j -1. +0.j  -0.5-0.5j  0. +0.j ]\n",
      "Señal OFDM bloque 121: [-0.5-1.j -0.5+0.j  0.5+0.j -0.5+0.j]\n",
      "Señal OFDM bloque 122: [ 0. +0.j   0.5+0.5j  1. +0.j  -0.5+0.5j]\n",
      "Señal OFDM bloque 123: [-0.5+1.j   0. +0.5j -0.5+0.j   0. -0.5j]\n",
      "Señal OFDM bloque 124: [-0.5+0.j   0. -0.5j  0.5+0.j   1. -0.5j]\n",
      "Señal OFDM bloque 125: [ 0.5+0.j -0.5+0.j  0.5+0.j  0.5+1.j]\n",
      "Señal OFDM bloque 126: [ 0.+1.j  0.+0.j -1.+0.j  0.+0.j]\n",
      "Señal OFDM bloque 127: [-0.5-1.j   0. +0.5j -0.5+0.j   0. -0.5j]\n",
      "Señal OFDM bloque 128: [0.-0.5j 0.+0.5j 1.+0.5j 0.+0.5j]\n"
     ]
    }
   ],
   "source": [
    "def apply_ifft_to_blocks(blocks):\n",
    "    # Aplica la IFFT a cada bloque de símbolos\n",
    "    time_domain_signals = np.fft.ifft(blocks, axis=1)\n",
    "    #np.fft.ifft aplica la transfotmada inversa de fourier discreta, el axis = 1 significa que se aplica a cada fila, es decir a cada bloque individual\n",
    "    return time_domain_signals\n",
    "    # Devuelve el array de señales temporales. Cada fila representa una señal OFDM lista para ser transmitida.\n",
    "\n",
    "#en terminos fisicos -> cada simbolo se convierte en una onda y todas las ondas se suman para formar la señal OFDM\n",
    "\n",
    "# Aplicar la IFFT\n",
    "ofdm_signals = apply_ifft_to_blocks(symbol_blocks)\n",
    "\n",
    "# Mostrar las primeras señales temporales\n",
    "for i, señal in enumerate(ofdm_signals):\n",
    "    print(f\"Señal OFDM bloque {i+1}: {señal}\")\n"
   ]
  },
  {
   "cell_type": "markdown",
   "metadata": {},
   "source": [
    "### Etapa N°4: Adición del Prefijo Cíclico (CP)"
   ]
  },
  {
   "cell_type": "markdown",
   "metadata": {},
   "source": [
    "Para evitar Interferencia Intersimbolo (ISI), se añade un prefijo ciclico al comienzo de cada simbolo OFDM. El prefijo cíclico es una copia de la última parte del símbolo OFDM."
   ]
  },
  {
   "cell_type": "markdown",
   "metadata": {},
   "source": [
    "### Ejemplo Conceptual:"
   ]
  },
  {
   "cell_type": "markdown",
   "metadata": {},
   "source": [
    "Suponiendo el siguiente flujo de datos: `01001011`.\n",
    "\n",
    "- **Etapa 1:** Los simbolos resultantes del flujo de datos son...\n",
    "\n",
    "    - $X_0(01) = 1+j$\n",
    "    - $X_1(00) = -1+j$\n",
    "    - $X_2(10) = -1-j$\n",
    "    - $X_3(11) = 1-j$\n",
    "\n",
    "- **Etapa 2:** Suponiendo $N=4$ subportadoras...\n",
    "\n",
    "    - $X_0 \\rightarrow N_0$\n",
    "    - $X_1 \\rightarrow N_1$\n",
    "    - $X_2 \\rightarrow N_2$\n",
    "    - $X_3 \\rightarrow N_3$\n",
    "\n",
    "- **Etapa 3:** La señal OFDM resultante será...\n",
    "\n",
    "$$s(n)=(1+j)e^{j0}+(-1+j)e^{j\\frac{2\\pi n}{4}}+(-1-j)e^{j\\frac{4\\pi n}{4}}(1-j)e^{j\\frac{6\\pi n}{4}}$$\n",
    "\n",
    "- **Etapa 4:** Suponiendo un prefijo ciclico de longitud 2 y 4 muestras...\n",
    "\n",
    "    -  $[s(0),s(1),s(2),s(3)]\\rightarrow[s(2),s(3),s(0),s(1),s(2),s(3)]$"
   ]
  }
 ],
 "metadata": {
  "kernelspec": {
   "display_name": ".venv",
   "language": "python",
   "name": "python3"
  },
  "language_info": {
   "codemirror_mode": {
    "name": "ipython",
    "version": 3
   },
   "file_extension": ".py",
   "mimetype": "text/x-python",
   "name": "python",
   "nbconvert_exporter": "python",
   "pygments_lexer": "ipython3",
   "version": "3.12.3"
  }
 },
 "nbformat": 4,
 "nbformat_minor": 2
}

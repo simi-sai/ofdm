{
 "cells": [
  {
   "cell_type": "markdown",
   "id": "e19b8cdb",
   "metadata": {},
   "source": [
    "### Etapa N°2.5: Aplicación de Ventana de Transmisión"
   ]
  },
  {
   "cell_type": "markdown",
   "id": "2a0b0a9e",
   "metadata": {},
   "source": [
    "Antes de transformar los símbolos OFDM al dominio temporal mediante la IFFT, se aplica una ventana suavizante sobre cada bloque de símbolos en el dominio frecuencial. Esta operación busca minimizar las fugas espectrales y reducir la energía fuera de banda en la señal transmitida.\n",
    "\n",
    "Ventana temporal en frecuencia:\n",
    "\n",
    "- Se trata de una multiplicación punto a punto entre los símbolos de cada bloque y una función de ventana como **Hamming**, Hanning o Coseno Realzado.\n",
    "- Suaviza los bordes del símbolo, logrando una forma de onda más continua y menos abrupta."
   ]
  },
  {
   "cell_type": "markdown",
   "id": "b383ed26",
   "metadata": {},
   "source": [
    "Dado un bloque de símbolos $\\mathbb{X}=[X_0,X_1,...,X_{N-1}]$ y una ventana $w(n)$, el bloque suavizado se expresa como:\n",
    "\n",
    "$$\\tilde{X}_n = X_n \\cdot w(n) \\quad \\text{para }n=0,1,...,N-1$$\n",
    "\n",
    "Luego se aplica la IFFT a los bloques suavizados en la siguiente etapa."
   ]
  },
  {
   "cell_type": "markdown",
   "id": "99fcd718",
   "metadata": {},
   "source": [
    "La ventana de Hamming es una función que suaviza los bordes de un bloque de datos para reducir el “ruido” en frecuencias fuera del canal principal. En lugar de cortar el bloque bruscamente, lo atenúa en los extremos, ayudando a mejorar el espectro del símbolo."
   ]
  },
  {
   "cell_type": "code",
   "execution_count": null,
   "id": "58ebe1db",
   "metadata": {
    "vscode": {
     "languageId": "plaintext"
    }
   },
   "outputs": [],
   "source": [
    "def apply_window(blocks, N):\n",
    "    # Generación de la ventana\n",
    "    window = np.hamming(N) \n",
    "    # Alternativas: np.hanning(N) o np.ones(N)\n",
    "    \n",
    "    return blocks * window"
   ]
  },
  {
   "cell_type": "code",
   "execution_count": null,
   "id": "aa999fc6",
   "metadata": {
    "vscode": {
     "languageId": "plaintext"
    }
   },
   "outputs": [],
   "source": [
    "windowed_blocks = apply_window(symbol_blocks, N)\n",
    "\n",
    "plotSignal(windowed_blocks, 'T')\n",
    "plotSignal(windowed_blocks, 'Q')"
   ]
  }
 ],
 "metadata": {
  "language_info": {
   "name": "python"
  }
 },
 "nbformat": 4,
 "nbformat_minor": 5
}
